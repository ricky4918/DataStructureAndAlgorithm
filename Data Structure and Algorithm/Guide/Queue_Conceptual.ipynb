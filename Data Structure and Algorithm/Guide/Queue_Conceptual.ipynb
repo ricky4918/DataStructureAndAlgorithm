{
 "cells": [
  {
   "cell_type": "markdown",
   "id": "f2e647f8",
   "metadata": {},
   "source": [
    "# Queues: Conceptual\n",
    "A conceptual overview of Queues.\n",
    "\n",
    "## Introduction\n",
    "A queue is a data structure which contains an ordered set of data.\n",
    "\n",
    "Queues provide three methods for interaction:\n",
    "\n",
    "* Enqueue - adds data to the “back” or end of the queue\n",
    "* Dequeue - provides and removes data from the “front” or beginning of the queue\n",
    "* Peek - reveals data from the “front” of the queue without removing it\n",
    "This data structure mimics a physical queue of objects like a line of people buying movie tickets. Each person has a name (the data). The first person to enqueue, or get into line, is both at the front and back of the line. As each new person enqueues, they become the new back of the line.\n",
    "\n",
    "Queues are a First In, First Out or FIFO structure.\n",
    "\n",
    "## Implementation\n",
    "Queues can be implemented using a linked list as the underlying data structure. The front of the queue is equivalent to the head node of a linked list and the back of the queue is equivalent to the tail node.\n",
    "\n",
    "![image.png](attachment:image.png)\n",
    "\n",
    "Since operations are only allowed to affect the front or back of the queue, any traversal or modification to other nodes within the linked list is disallowed. Since both ends of the queue must be accessible, a reference to both the head node and the tail node must be maintained.\n",
    "\n",
    "One last constraint that may be placed on a queue is its length. If a queue has a limit on the amount of data that can be placed into it, it is considered a bounded queue.\n",
    "\n",
    "Similar to stacks, attempting to enqueue data onto an already full queue will result in a queue overflow. If you attempt to dequeue data from an empty queue, it will result in a queue underflow.\n",
    "\n",
    "## Review\n",
    "Let’s take a minute to review what we’ve covered about queues in this lesson.\n",
    "\n",
    "Queues:\n",
    "\n",
    "* Contain data nodes\n",
    "* Support three main operations:\n",
    "    * Enqueue adds data to the back of the queue\n",
    "    * Dequeue removes and provides data from the front of the queue\n",
    "    * Peek provides data on the front of the queue\n",
    "* Can be implemented using a linked list or array\n",
    "* Bounded queues have a limited size.\n",
    "* Enqueueing onto a full queue causes a queue overflow\n",
    "* Queues process data First In, First Out (FIFO)"
   ]
  }
 ],
 "metadata": {
  "kernelspec": {
   "display_name": "Python 3 (ipykernel)",
   "language": "python",
   "name": "python3"
  },
  "language_info": {
   "codemirror_mode": {
    "name": "ipython",
    "version": 3
   },
   "file_extension": ".py",
   "mimetype": "text/x-python",
   "name": "python",
   "nbconvert_exporter": "python",
   "pygments_lexer": "ipython3",
   "version": "3.8.10"
  }
 },
 "nbformat": 4,
 "nbformat_minor": 5
}
