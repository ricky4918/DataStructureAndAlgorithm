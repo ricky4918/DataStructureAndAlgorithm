{
 "cells": [
  {
   "cell_type": "markdown",
   "id": "8ea70dcf",
   "metadata": {},
   "source": [
    "# Nodes Python Introduction\n",
    "Now that you have an understanding of what nodes are, let’s see one way they can be implemented using Python.\n",
    "\n",
    "We will use a basic node that contains data and one link to another node. The node’s data will be specified when creating the node and immutable (can’t be updated). The link will be optional at initialization and can be updated.\n",
    "\n",
    "Remember that at the end of a node path, the link to the next node is null because there are no more nodes left. In Python, this means it will be set to None."
   ]
  },
  {
   "cell_type": "code",
   "execution_count": 3,
   "id": "7ca8b055",
   "metadata": {},
   "outputs": [
    {
     "name": "stdout",
     "output_type": "stream",
     "text": [
      "enjoys spending time in movie lots\n",
      "has a penchant for hoarding snacks\n"
     ]
    }
   ],
   "source": [
    "class Node:\n",
    "    \n",
    "    def __init__(self, value, link_node =None):\n",
    "        self.value = value\n",
    "        self.link_node = link_node\n",
    "        \n",
    "    def get_value(self):\n",
    "        return self.value\n",
    "        \n",
    "    def get_link_node(self):\n",
    "        return self.link_node\n",
    "    \n",
    "    def set_link_node(self, link_node):\n",
    "        self.link_node = link_node\n",
    "\n",
    "        \n",
    "yacko = Node(\"likes to yak\")\n",
    "wacko = Node(\"has a penchant for hoarding snacks\")\n",
    "dot = Node(\"enjoys spending time in movie lots\")\n",
    "\n",
    "dot.set_link_node(wacko)\n",
    "yacko.set_link_node(dot)\n",
    "\n",
    "dots_data = yacko.get_link_node().get_value()\n",
    "wackos_data = dot.get_link_node().get_value()\n",
    "\n",
    "print(dots_data)\n",
    "print(wackos_data)"
   ]
  }
 ],
 "metadata": {
  "kernelspec": {
   "display_name": "Python 3 (ipykernel)",
   "language": "python",
   "name": "python3"
  },
  "language_info": {
   "codemirror_mode": {
    "name": "ipython",
    "version": 3
   },
   "file_extension": ".py",
   "mimetype": "text/x-python",
   "name": "python",
   "nbconvert_exporter": "python",
   "pygments_lexer": "ipython3",
   "version": "3.8.10"
  }
 },
 "nbformat": 4,
 "nbformat_minor": 5
}
