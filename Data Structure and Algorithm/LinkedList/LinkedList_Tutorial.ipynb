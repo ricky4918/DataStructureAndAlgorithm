{
 "cells": [
  {
   "cell_type": "code",
   "execution_count": 1,
   "metadata": {},
   "outputs": [],
   "source": [
    "class Node:\n",
    "\n",
    "    def __init__(self, d,  n = None, p = None):\n",
    "        self.data = d\n",
    "        self.next_node = n\n",
    "        self.prev_node = p\n",
    "\n",
    "    def __str__(self):\n",
    "        return (\"(\"+ str(self.data) + \")\")"
   ]
  },
  {
   "cell_type": "code",
   "execution_count": 20,
   "metadata": {},
   "outputs": [],
   "source": [
    "class LinkedList:\n",
    "\n",
    "    def __init__(self, h = None):\n",
    "        self.head = h\n",
    "        self.size = 0\n",
    "\n",
    "    def add(self, d):\n",
    "\n",
    "        new_node = Node(d)\n",
    "        new_node.next_node = self.head\n",
    "        self.head = new_node\n",
    "        self.size += 1\n",
    "\n",
    "    def find(self, d):\n",
    "        curr_node = self.head\n",
    "        while curr_node is not None:\n",
    "            if curr_node.data == d:\n",
    "                return d\n",
    "            else:\n",
    "                curr_node = curr_node.next_node\n",
    "        return None\n",
    "\n",
    "    def remove(self, d):\n",
    "        curr_node = self.head\n",
    "        prev_node = None\n",
    "\n",
    "        while curr_node is not None:\n",
    "            if curr_node.data == d:\n",
    "                if prev_node is not None:\n",
    "                    prev_node.next_node = curr_node.next_node\n",
    "                else: \n",
    "                    self.head = curr_node.next_node\n",
    "                self.size -= 1\n",
    "                return True\n",
    "            else:\n",
    "                prev_node = curr_node\n",
    "                curr_node = curr_node.next_node\n",
    "        return False\n",
    "\n",
    "\n",
    "    def print_list(self):\n",
    "\n",
    "        curr_node = self.head\n",
    "        while curr_node is not None:\n",
    "            print(curr_node, end =\"->\")\n",
    "            curr_node = curr_node.next_node\n",
    "        print('None')\n",
    "\n",
    "\n"
   ]
  },
  {
   "cell_type": "code",
   "execution_count": 22,
   "metadata": {},
   "outputs": [
    {
     "name": "stdout",
     "output_type": "stream",
     "text": [
      "(12)->(8)->(5)->None\n",
      "size=3\n"
     ]
    },
    {
     "ename": "KeyboardInterrupt",
     "evalue": "",
     "output_type": "error",
     "traceback": [
      "\u001b[1;31m---------------------------------------------------------------------------\u001b[0m",
      "\u001b[1;31mKeyboardInterrupt\u001b[0m                         Traceback (most recent call last)",
      "\u001b[1;32md:\\DataStructureAndAlgorithm\\Data Structure and Algorithm\\LinkedList\\LinkedList_Tutorial.ipynb Cell 3'\u001b[0m in \u001b[0;36m<cell line: 9>\u001b[1;34m()\u001b[0m\n\u001b[0;32m      <a href='vscode-notebook-cell:/d%3A/DataStructureAndAlgorithm/Data%20Structure%20and%20Algorithm/LinkedList/LinkedList_Tutorial.ipynb#ch0000002?line=4'>5</a>\u001b[0m my_list\u001b[39m.\u001b[39mprint_list()\n\u001b[0;32m      <a href='vscode-notebook-cell:/d%3A/DataStructureAndAlgorithm/Data%20Structure%20and%20Algorithm/LinkedList/LinkedList_Tutorial.ipynb#ch0000002?line=7'>8</a>\u001b[0m \u001b[39mprint\u001b[39m(\u001b[39m\"\u001b[39m\u001b[39msize=\u001b[39m\u001b[39m\"\u001b[39m \u001b[39m+\u001b[39m \u001b[39mstr\u001b[39m(my_list\u001b[39m.\u001b[39msize))\n\u001b[1;32m----> <a href='vscode-notebook-cell:/d%3A/DataStructureAndAlgorithm/Data%20Structure%20and%20Algorithm/LinkedList/LinkedList_Tutorial.ipynb#ch0000002?line=8'>9</a>\u001b[0m my_list\u001b[39m.\u001b[39;49mremove(\u001b[39m8\u001b[39;49m)\n\u001b[0;32m     <a href='vscode-notebook-cell:/d%3A/DataStructureAndAlgorithm/Data%20Structure%20and%20Algorithm/LinkedList/LinkedList_Tutorial.ipynb#ch0000002?line=9'>10</a>\u001b[0m \u001b[39mprint\u001b[39m(\u001b[39m\"\u001b[39m\u001b[39msize=\u001b[39m\u001b[39m\"\u001b[39m \u001b[39m+\u001b[39m \u001b[39mstr\u001b[39m(my_list\u001b[39m.\u001b[39msize))\n\u001b[0;32m     <a href='vscode-notebook-cell:/d%3A/DataStructureAndAlgorithm/Data%20Structure%20and%20Algorithm/LinkedList/LinkedList_Tutorial.ipynb#ch0000002?line=10'>11</a>\u001b[0m \u001b[39mprint\u001b[39m(my_list\u001b[39m.\u001b[39mfind(\u001b[39m5\u001b[39m))\n",
      "\u001b[1;32md:\\DataStructureAndAlgorithm\\Data Structure and Algorithm\\LinkedList\\LinkedList_Tutorial.ipynb Cell 2'\u001b[0m in \u001b[0;36mLinkedList.remove\u001b[1;34m(self, d)\u001b[0m\n\u001b[0;32m     <a href='vscode-notebook-cell:/d%3A/DataStructureAndAlgorithm/Data%20Structure%20and%20Algorithm/LinkedList/LinkedList_Tutorial.ipynb#ch0000001?line=23'>24</a>\u001b[0m curr_node \u001b[39m=\u001b[39m \u001b[39mself\u001b[39m\u001b[39m.\u001b[39mhead\n\u001b[0;32m     <a href='vscode-notebook-cell:/d%3A/DataStructureAndAlgorithm/Data%20Structure%20and%20Algorithm/LinkedList/LinkedList_Tutorial.ipynb#ch0000001?line=24'>25</a>\u001b[0m prev_node \u001b[39m=\u001b[39m \u001b[39mNone\u001b[39;00m\n\u001b[1;32m---> <a href='vscode-notebook-cell:/d%3A/DataStructureAndAlgorithm/Data%20Structure%20and%20Algorithm/LinkedList/LinkedList_Tutorial.ipynb#ch0000001?line=26'>27</a>\u001b[0m \u001b[39mwhile\u001b[39;00m curr_node \u001b[39mis\u001b[39;49;00m \u001b[39mnot\u001b[39;49;00m \u001b[39mNone\u001b[39;49;00m:\n\u001b[0;32m     <a href='vscode-notebook-cell:/d%3A/DataStructureAndAlgorithm/Data%20Structure%20and%20Algorithm/LinkedList/LinkedList_Tutorial.ipynb#ch0000001?line=27'>28</a>\u001b[0m     \u001b[39mif\u001b[39;00m curr_node\u001b[39m.\u001b[39mdata \u001b[39m==\u001b[39m d:\n\u001b[0;32m     <a href='vscode-notebook-cell:/d%3A/DataStructureAndAlgorithm/Data%20Structure%20and%20Algorithm/LinkedList/LinkedList_Tutorial.ipynb#ch0000001?line=28'>29</a>\u001b[0m         \u001b[39mif\u001b[39;00m prev_node \u001b[39mis\u001b[39;00m \u001b[39mnot\u001b[39;00m \u001b[39mNone\u001b[39;00m:\n",
      "\u001b[1;31mKeyboardInterrupt\u001b[0m: "
     ]
    }
   ],
   "source": [
    "my_list = LinkedList()\n",
    "my_list.add(5)\n",
    "my_list.add(8)\n",
    "my_list.add(12)\n",
    "my_list.print_list()\n",
    "\n",
    "\n",
    "print(\"size=\" + str(my_list.size))\n",
    "my_list.remove(8)\n",
    "print(\"size=\" + str(my_list.size))\n",
    "print(my_list.find(5))\n",
    "print(my_list.head)\n",
    "\n",
    "\n",
    "\n",
    "\n",
    "\n",
    "\n",
    "    \n",
    "\n",
    "\n"
   ]
  }
 ],
 "metadata": {
  "interpreter": {
   "hash": "a15eaf017d4c822ac8b2e8b0c8fe63b5bf28522c512babe22e9dadba05f15356"
  },
  "kernelspec": {
   "display_name": "Python 3.10.2 64-bit",
   "language": "python",
   "name": "python3"
  },
  "language_info": {
   "codemirror_mode": {
    "name": "ipython",
    "version": 3
   },
   "file_extension": ".py",
   "mimetype": "text/x-python",
   "name": "python",
   "nbconvert_exporter": "python",
   "pygments_lexer": "ipython3",
   "version": "3.10.2"
  },
  "orig_nbformat": 4
 },
 "nbformat": 4,
 "nbformat_minor": 2
}
