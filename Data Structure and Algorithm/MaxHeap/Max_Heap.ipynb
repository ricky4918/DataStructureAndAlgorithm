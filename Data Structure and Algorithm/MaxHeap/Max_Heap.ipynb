{
 "cells": [
  {
   "cell_type": "markdown",
   "metadata": {},
   "source": [
    "# Complete Binary Tree\n",
    "* Every node <= its parent\n",
    "* MaxHeap is Fast\n",
    "* Insert in O(logn)\n",
    "* Get Max in O(1)\n",
    "* Remove Max in O(logn)\n",
    "\n",
    "### Easy to implement using a List\n",
    "* parent(i) = i/2\n",
    "* left(i) = i * 2\n",
    "* right = i * 2 + 1\n",
    "* push(insert)\n",
    "* peek(get max)\n",
    "* pop(remove max)\n",
    "\n",
    "\n",
    "### Push \n",
    "* add value to end of array\n",
    "* float it up to its proper possition\n",
    "\n",
    "### Peek\n",
    "* Return the value at heap[1]\n",
    "\n",
    "\n",
    "### Pop\n",
    "\n",
    "* Move max to end of array\n",
    "* Delete it\n",
    "* Bubble Down the item at index 1 to its proper postion\n",
    "* Return max\n"
   ]
  },
  {
   "cell_type": "code",
   "execution_count": 12,
   "metadata": {},
   "outputs": [],
   "source": [
    "class MaxHeap:\n",
    "\n",
    "    def __init__(self, items = []):\n",
    "        super().__init__()\n",
    "        self.heap = [0]\n",
    "        for item in items:\n",
    "            self.heap.append(item)\n",
    "            self.floatup(len(self.heap) -1)\n",
    "    \n",
    "    def push(self, data):\n",
    "        self.heap.append(data)\n",
    "        self.floatup(len(self.heap) -1)\n",
    "\n",
    "    def peek(self):\n",
    "        if self.heap[1]:\n",
    "            return self.heap[1]\n",
    "        else:\n",
    "            return False\n",
    "    \n",
    "    def pop(self):\n",
    "        if len(self.heap) > 2:\n",
    "            self.swap(1, len(self.heap) -1)\n",
    "            max = self.heap.pop()\n",
    "            self.bubbleDown(1)\n",
    "        elif len(self.heap) == 2:\n",
    "            max = self.heap.pop()\n",
    "        else: \n",
    "            max = False\n",
    "        return max\n",
    "\n",
    "    def swap(self, i ,j):\n",
    "        self.heap[i] , self.heap[j] = self.heap[j], self.heap[i]\n",
    "    \n",
    "    def floatup(self, index):\n",
    "        parent = index//2\n",
    "        if index <= 1:\n",
    "            return\n",
    "        elif self.heap[index] > self.heap[parent]:\n",
    "            self.swap(index, parent)\n",
    "            self.floatup(parent)\n",
    "\n",
    "    def bubbleDown(self, index):\n",
    "        left = index * 2\n",
    "        right = index * 2 +1\n",
    "        largest = index\n",
    "        if len(self.heap) > left and self.heap[largest] < self.heap[left]:\n",
    "            largest = left\n",
    "        if len(self.heap) > right and self.heap[largest] < self.heap[right]:\n",
    "            largest = right\n",
    "        if largest != index:\n",
    "            self.swap(index, largest)\n",
    "            self.bubbleDown(largest)\n",
    "        \n",
    "    def __str__(self):\n",
    "            return str(self.heap)\n",
    "\n"
   ]
  },
  {
   "cell_type": "code",
   "execution_count": 13,
   "metadata": {},
   "outputs": [
    {
     "name": "stdout",
     "output_type": "stream",
     "text": [
      "[0, 95, 10, 21, 3]\n",
      "95\n",
      "21\n"
     ]
    }
   ],
   "source": [
    "m = MaxHeap([95, 3, 21])\n",
    "m.push(10)\n",
    "print(m)\n",
    "print(m.pop())\n",
    "print(m.peek())\n"
   ]
  }
 ],
 "metadata": {
  "interpreter": {
   "hash": "ad24625b161e6a12a3807be63934d6c5effa642a907014eb41a9ac05681aa40b"
  },
  "kernelspec": {
   "display_name": "Python 3.9.0 64-bit",
   "language": "python",
   "name": "python3"
  },
  "language_info": {
   "codemirror_mode": {
    "name": "ipython",
    "version": 3
   },
   "file_extension": ".py",
   "mimetype": "text/x-python",
   "name": "python",
   "nbconvert_exporter": "python",
   "pygments_lexer": "ipython3",
   "version": "3.9.0"
  },
  "orig_nbformat": 4
 },
 "nbformat": 4,
 "nbformat_minor": 2
}
