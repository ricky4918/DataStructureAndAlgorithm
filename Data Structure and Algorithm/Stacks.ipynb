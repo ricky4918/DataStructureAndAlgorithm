{
 "cells": [
  {
   "cell_type": "code",
   "execution_count": 5,
   "id": "16898199",
   "metadata": {},
   "outputs": [],
   "source": [
    "class Node:\n",
    "  def __init__(self, value, next_node=None):\n",
    "    self.value = value\n",
    "    self.next_node = next_node\n",
    "    \n",
    "  def get_value(self):\n",
    "    return self.value\n",
    "  \n",
    "  def get_next_node(self):\n",
    "    return self.next_node\n",
    "  \n",
    "  def set_next_node(self, next_node):\n",
    "    self.next_node = next_node\n",
    "  "
   ]
  },
  {
   "cell_type": "code",
   "execution_count": 6,
   "id": "d63765e3",
   "metadata": {},
   "outputs": [],
   "source": [
    "class Stack:\n",
    "  def __init__(self, limit=1000):\n",
    "    self.top_item = None\n",
    "    self.size = 0\n",
    "    self.limit = limit\n",
    "  \n",
    "  def push(self, value):\n",
    "    if self.has_space():\n",
    "      item = Node(value)\n",
    "      item.set_next_node(self.top_item)\n",
    "      self.top_item = item\n",
    "      self.size += 1\n",
    "      print(\"Adding {} to the pizza stack!\".format(value))\n",
    "    else:\n",
    "      print(\"No room for {}!\".format(value))\n",
    "\n",
    "  def pop(self):\n",
    "    if not self.is_empty():\n",
    "      item_to_remove = self.top_item\n",
    "      self.top_item = item_to_remove.get_next_node()\n",
    "      self.size -= 1\n",
    "      print(\"Delivering \" + item_to_remove.get_value())\n",
    "      return item_to_remove.get_value()\n",
    "    print(\"All out of pizza.\")\n",
    "\n",
    "  def peek(self):\n",
    "    if not self.is_empty():\n",
    "      return self.top_item.get_value()\n",
    "    print(\"Nothing to see here!\")\n",
    "\n",
    "  def has_space(self):\n",
    "    return self.limit > self.size\n",
    "\n",
    "  def is_empty(self):\n",
    "    return self.size == 0\n"
   ]
  },
  {
   "cell_type": "code",
   "execution_count": 7,
   "id": "284a65b6",
   "metadata": {},
   "outputs": [
    {
     "name": "stdout",
     "output_type": "stream",
     "text": [
      "Adding pizza #1 to the pizza stack!\n",
      "Adding pizza #2 to the pizza stack!\n",
      "Adding pizza #3 to the pizza stack!\n",
      "Adding pizza #4 to the pizza stack!\n",
      "Adding pizza #5 to the pizza stack!\n",
      "Adding pizza #6 to the pizza stack!\n",
      "No room for pizza #7!\n",
      "The first pizza to deliver is pizza #6\n",
      "Delivering pizza #6\n",
      "Delivering pizza #5\n",
      "Delivering pizza #4\n",
      "Delivering pizza #3\n",
      "Delivering pizza #2\n",
      "Delivering pizza #1\n",
      "All out of pizza.\n"
     ]
    }
   ],
   "source": [
    "# Defining an empty pizza stack\n",
    "pizza_stack = Stack(6)\n",
    "# Adding pizzas as they are ready until we have \n",
    "pizza_stack.push(\"pizza #1\")\n",
    "pizza_stack.push(\"pizza #2\")\n",
    "pizza_stack.push(\"pizza #3\")\n",
    "pizza_stack.push(\"pizza #4\")\n",
    "pizza_stack.push(\"pizza #5\")\n",
    "pizza_stack.push(\"pizza #6\")\n",
    "\n",
    "# Uncomment the push() statement below:\n",
    "pizza_stack.push(\"pizza #7\")\n",
    "\n",
    "# Delivering pizzas from the top of the stack down\n",
    "print(\"The first pizza to deliver is \" + pizza_stack.peek())\n",
    "pizza_stack.pop()\n",
    "pizza_stack.pop()\n",
    "pizza_stack.pop()\n",
    "pizza_stack.pop()\n",
    "pizza_stack.pop()\n",
    "pizza_stack.pop()\n",
    "\n",
    "# Uncomment the pop() statement below:\n",
    "pizza_stack.pop()"
   ]
  }
 ],
 "metadata": {
  "kernelspec": {
   "display_name": "Python 3 (ipykernel)",
   "language": "python",
   "name": "python3"
  },
  "language_info": {
   "codemirror_mode": {
    "name": "ipython",
    "version": 3
   },
   "file_extension": ".py",
   "mimetype": "text/x-python",
   "name": "python",
   "nbconvert_exporter": "python",
   "pygments_lexer": "ipython3",
   "version": "3.8.10"
  }
 },
 "nbformat": 4,
 "nbformat_minor": 5
}
