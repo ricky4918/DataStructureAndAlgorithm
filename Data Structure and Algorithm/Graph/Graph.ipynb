{
 "cells": [
  {
   "cell_type": "markdown",
   "metadata": {},
   "source": [
    "# Graph\n",
    "\n",
    "#### Adjacency List\n",
    "* List of neighbors stored in each vertex\n",
    "\n",
    "#### Adjacency Matrix\n",
    "\n",
    "* Matrix of neighbors stored centrally in Graph object"
   ]
  },
  {
   "cell_type": "markdown",
   "metadata": {},
   "source": [
    "# Adjacency List"
   ]
  },
  {
   "cell_type": "code",
   "execution_count": 23,
   "metadata": {},
   "outputs": [],
   "source": [
    "class Vertex:\n",
    "\tdef __init__(self, n):\n",
    "\t\tself.name = n\n",
    "\t\tself.neighbors = list()\n",
    "\t\n",
    "\tdef add_neighbor(self, v):\n",
    "\t\tif v not in self.neighbors:\n",
    "\t\t\tself.neighbors.append(v)\n",
    "\t\t\tself.neighbors.sort()"
   ]
  },
  {
   "cell_type": "markdown",
   "metadata": {},
   "source": []
  },
  {
   "cell_type": "code",
   "execution_count": 26,
   "metadata": {},
   "outputs": [],
   "source": [
    "class Graph:\n",
    "\tvertices = {}\n",
    "\t\n",
    "\tdef add_vertex(self, vertex):\n",
    "\t\tif isinstance(vertex, Vertex) and vertex.name not in self.vertices:\n",
    "\t\t\tself.vertices[vertex.name] = vertex\n",
    "\t\t\treturn True\n",
    "\t\telse:\n",
    "\t\t\treturn False\n",
    "\t\n",
    "\tdef add_edge(self, u, v):\n",
    "\t\tif u in self.vertices and v in self.vertices:\n",
    "\t\t\tfor key, value in self.vertices.items():\n",
    "\t\t\t\tif key == u:\n",
    "\t\t\t\t\tvalue.add_neighbor(v)\n",
    "\t\t\t\tif key == v:\n",
    "\t\t\t\t\tvalue.add_neighbor(u)\n",
    "\t\t\treturn True\n",
    "\t\telse:\n",
    "\t\t\treturn False\n",
    "\t\t\t\n",
    "\tdef print_graph(self):\n",
    "\t\tfor key in sorted(list(self.vertices.keys())):\n",
    "\t\t\tprint(key + str(self.vertices[key].neighbors))"
   ]
  },
  {
   "cell_type": "code",
   "execution_count": 27,
   "metadata": {},
   "outputs": [],
   "source": [
    "g = Graph()\n",
    "a = Vertex('A')\n",
    "g.add_vertex(a)\n",
    "g.add_vertex(Vertex('B'))\n",
    "for i in range(ord('A'), ord('K')):\n",
    "    g.add_vertex(Vertex(chr(i)))\n",
    "\n"
   ]
  },
  {
   "cell_type": "code",
   "execution_count": 28,
   "metadata": {},
   "outputs": [
    {
     "name": "stdout",
     "output_type": "stream",
     "text": [
      "A{'B', 'E'}\n",
      "B{'A', 'F'}\n",
      "C{'G'}\n",
      "D{'E', 'H'}\n",
      "E{'D', 'A'}\n",
      "F{'B', 'G', 'J', 'I'}\n",
      "G{'C', 'J', 'F'}\n",
      "H{'D'}\n",
      "I{'F'}\n",
      "J{'G', 'F'}\n"
     ]
    }
   ],
   "source": [
    "edges = ['AB', 'AE', 'BF', 'CG', 'DE','DH' 'EH', \"FG\", 'FI', 'FJ', 'GJ']\n",
    "for edge in edges:\n",
    "    g.add_edge(edge[0], edge[1])\n",
    "\n",
    "g.print_graph()"
   ]
  },
  {
   "cell_type": "markdown",
   "metadata": {},
   "source": [
    "# Adjacency Matrix"
   ]
  },
  {
   "cell_type": "code",
   "execution_count": null,
   "metadata": {},
   "outputs": [],
   "source": [
    "class Vertex:\n",
    "    def __init__(self,n):\n",
    "        self.name = n    "
   ]
  },
  {
   "cell_type": "markdown",
   "metadata": {},
   "source": [
    "* vertices - a dictionary with vertex_name: vertex_object\n",
    "* edges - a -dimentional list of edges, for an unweighted graph it will contain 0 for no edge and 1 for edge\n",
    "* edge_indices = a dictionary with vertex_name: list_index(eg. A: 0) to access edges\n",
    "\n",
    "add_vertex updtates all three of these attributes\n",
    "\n",
    "add_edge only needs to update the edges matrix"
   ]
  },
  {
   "cell_type": "code",
   "execution_count": null,
   "metadata": {},
   "outputs": [],
   "source": [
    "class Graph:\n",
    "    vertices = {}\n",
    "    edges = []\n",
    "    edge_indices = {}\n",
    "\n",
    "\n",
    "    def add_vertex(self, vertex): \n",
    "        if isinstance(vertex, Vertex) and vertex.name not in self.vertices\n",
    "            self.vertices[vertex.name] = vertex\n",
    "            for row in self.edges:\n",
    "                row.append(0)\n",
    "\n",
    "            self.edges.append([0]*(len(self.edges)+1))\n",
    "            self.edge_indices[vertex.name] = len(self.edge_indices)\n",
    "            return True\n",
    "        else:\n",
    "            return False\n",
    "\n",
    "    def add_edge(self, u, v, weight = 1):\n",
    "        if u in self.vertices and v in self.vertices:\n",
    "            for key, value in self.vertices.items():\n",
    "                if key == u:\n",
    "                    value.add_neighbor(v)\n",
    "                if key == v:\n",
    "                    value.add_neighbor(u)\n",
    "            return True\n",
    "        else:\n",
    "            return False\n",
    "\n",
    "    def print_graph(self):\n",
    "        for v, i in sorted(self.edge_indices.items()):\n",
    "            print(v + ' ', end ='' )\n",
    "            for j in range(len(self.edges)):\n",
    "                print(self.edges[i][j], end= \" \")\n",
    "            print(' ')\n"
   ]
  }
 ],
 "metadata": {
  "interpreter": {
   "hash": "ad24625b161e6a12a3807be63934d6c5effa642a907014eb41a9ac05681aa40b"
  },
  "kernelspec": {
   "display_name": "Python 3.9.0 64-bit",
   "language": "python",
   "name": "python3"
  },
  "language_info": {
   "codemirror_mode": {
    "name": "ipython",
    "version": 3
   },
   "file_extension": ".py",
   "mimetype": "text/x-python",
   "name": "python",
   "nbconvert_exporter": "python",
   "pygments_lexer": "ipython3",
   "version": "3.9.0"
  },
  "orig_nbformat": 4
 },
 "nbformat": 4,
 "nbformat_minor": 2
}
